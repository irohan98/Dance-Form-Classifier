{
  "nbformat": 4,
  "nbformat_minor": 0,
  "metadata": {
    "colab": {
      "name": "Dance_Form_Classifier.ipynb",
      "provenance": [],
      "collapsed_sections": [
        "0XSLS2BsVgFW",
        "mURGZb9RVotU",
        "MP5MAVdIVvWL",
        "50drT70cWGrk",
        "5wlUhbyp0KB5"
      ],
      "include_colab_link": true
    },
    "kernelspec": {
      "name": "python3",
      "display_name": "Python 3"
    },
    "accelerator": "GPU"
  },
  "cells": [
    {
      "cell_type": "markdown",
      "metadata": {
        "id": "view-in-github",
        "colab_type": "text"
      },
      "source": [
        "<a href=\"https://colab.research.google.com/github/irohan98/Dance-Form-Classifier/blob/master/Dance_Form_Classifier.ipynb\" target=\"_parent\"><img src=\"https://colab.research.google.com/assets/colab-badge.svg\" alt=\"Open In Colab\"/></a>"
      ]
    },
    {
      "cell_type": "code",
      "metadata": {
        "id": "p44Xjwez4Wif",
        "colab": {
          "base_uri": "https://localhost:8080/"
        },
        "outputId": "f60931e4-0c7e-478a-a049-8138020914c9"
      },
      "source": [
        "import tensorflow as tf\n",
        "print(tf.__version__)"
      ],
      "execution_count": 1,
      "outputs": [
        {
          "output_type": "stream",
          "text": [
            "2.3.0\n"
          ],
          "name": "stdout"
        }
      ]
    },
    {
      "cell_type": "markdown",
      "metadata": {
        "id": "mURGZb9RVotU"
      },
      "source": [
        "# Mount Drive"
      ]
    },
    {
      "cell_type": "code",
      "metadata": {
        "id": "mnGzVzh14u1E",
        "colab": {
          "base_uri": "https://localhost:8080/"
        },
        "outputId": "ce3257ee-06b9-4d3d-eed1-8154637e5932"
      },
      "source": [
        "from google.colab import drive\n",
        "drive.mount('/content/drive')"
      ],
      "execution_count": 2,
      "outputs": [
        {
          "output_type": "stream",
          "text": [
            "Mounted at /content/drive\n"
          ],
          "name": "stdout"
        }
      ]
    },
    {
      "cell_type": "code",
      "metadata": {
        "id": "qJKTbNw0AwS-",
        "colab": {
          "base_uri": "https://localhost:8080/"
        },
        "outputId": "82e0e19f-64a6-4904-83e6-9cf6eb200575"
      },
      "source": [
        "%cd /content/drive/My Drive/Dance_classifier/dataset"
      ],
      "execution_count": 3,
      "outputs": [
        {
          "output_type": "stream",
          "text": [
            "/content/drive/My Drive/Dance_classifier/dataset\n"
          ],
          "name": "stdout"
        }
      ]
    },
    {
      "cell_type": "markdown",
      "metadata": {
        "id": "MP5MAVdIVvWL"
      },
      "source": [
        "# Dataset Exploration"
      ]
    },
    {
      "cell_type": "markdown",
      "metadata": {
        "id": "bOxN8RkHb58P"
      },
      "source": [
        "## Images in the Dataset"
      ]
    },
    {
      "cell_type": "code",
      "metadata": {
        "id": "0zaDZEmo4iC3"
      },
      "source": [
        "import matplotlib.pyplot as plt\n",
        "import os\n",
        "import cv2"
      ],
      "execution_count": null,
      "outputs": []
    },
    {
      "cell_type": "code",
      "metadata": {
        "id": "PNGDHlcE5ykR"
      },
      "source": [
        "DATADIR = '/content/drive/My Drive/Dance_classifier/dataset'   #add path after appending the drive\n",
        "CATEGORIES = ['train','test']\n",
        "for category in CATEGORIES:\n",
        "  path = os.path.join(DATADIR, category)\n",
        "  for img in os.listdir(path):\n",
        "    img_array = cv2.imread(os.path.join(path,img))\n",
        "    plt.imshow(img_array, cmap='gray')\n",
        "    plt.show()\n",
        "    break\n",
        "  break\n",
        "\n",
        "print(img_array)\n",
        "print(\"----------------------\")\n",
        "print(img_array.shape)"
      ],
      "execution_count": null,
      "outputs": []
    },
    {
      "cell_type": "markdown",
      "metadata": {
        "id": "OpaxXWA8cZqw"
      },
      "source": [
        "##Training Set\n",
        "Train.csv files"
      ]
    },
    {
      "cell_type": "code",
      "metadata": {
        "id": "cwRSAkGlYXST"
      },
      "source": [
        "import pandas as pd"
      ],
      "execution_count": 4,
      "outputs": []
    },
    {
      "cell_type": "code",
      "metadata": {
        "id": "_PHN2GUAce-T"
      },
      "source": [
        "train = pd.read_csv('/content/drive/My Drive/Dance_classifier/dataset/train.csv')\n",
        "train.Image = train.Image.astype('str')\n",
        "train.target = train.target.astype('str')"
      ],
      "execution_count": 5,
      "outputs": []
    },
    {
      "cell_type": "code",
      "metadata": {
        "id": "w5C4wWHhcuac"
      },
      "source": [
        "train.head()"
      ],
      "execution_count": null,
      "outputs": []
    },
    {
      "cell_type": "code",
      "metadata": {
        "id": "jJnEj0LGc3QF"
      },
      "source": [
        "print(train.columns)\n",
        "print(len(train))"
      ],
      "execution_count": null,
      "outputs": []
    },
    {
      "cell_type": "code",
      "metadata": {
        "id": "WZruOwiFc7bJ"
      },
      "source": [
        "train['target'].value_counts()"
      ],
      "execution_count": null,
      "outputs": []
    },
    {
      "cell_type": "code",
      "metadata": {
        "id": "EsLrotijc-st"
      },
      "source": [
        "train['target'].value_counts().plot(kind='bar')"
      ],
      "execution_count": null,
      "outputs": []
    },
    {
      "cell_type": "markdown",
      "metadata": {
        "id": "50drT70cWGrk"
      },
      "source": [
        "# Model 1 (New Model)"
      ]
    },
    {
      "cell_type": "markdown",
      "metadata": {
        "id": "iTFPu0dKUEEV"
      },
      "source": [
        "##Packages"
      ]
    },
    {
      "cell_type": "code",
      "metadata": {
        "id": "eCnSW5AFhn6u"
      },
      "source": [
        "from tensorflow.keras.models import Sequential\n",
        "from tensorflow.keras.layers import Dense, Dropout, Flatten\n",
        "from tensorflow.keras.layers import Conv2D, MaxPooling2D\n",
        "from tensorflow.keras.utils import to_categorical\n",
        "from tensorflow.keras.preprocessing import image\n",
        "import numpy as np\n",
        "import pandas as pd\n",
        "import matplotlib.pyplot as plt\n",
        "from sklearn.model_selection import train_test_split\n",
        "from tensorflow.keras.utils import to_categorical"
      ],
      "execution_count": null,
      "outputs": []
    },
    {
      "cell_type": "markdown",
      "metadata": {
        "id": "TcQnZpmoWRY6"
      },
      "source": [
        "##Improving Dataset"
      ]
    },
    {
      "cell_type": "code",
      "metadata": {
        "id": "i3Q9D8Vzh7JH"
      },
      "source": [
        "from tensorflow.keras.preprocessing.image import ImageDataGenerator\n",
        "train_datagen = ImageDataGenerator(rescale = 1./255,\n",
        "                                  shear_range = 0.2, \n",
        "                                  zoom_range = 0.5,\n",
        "                                  rotation_range = 45,\n",
        "                                  width_shift_range=0.1,\n",
        "                                  # randomly shift images vertically (fraction of total height)\n",
        "                                  height_shift_range=0.1,\n",
        "                                  horizontal_flip = True)"
      ],
      "execution_count": null,
      "outputs": []
    },
    {
      "cell_type": "code",
      "metadata": {
        "id": "nIMIKeDC2qrT"
      },
      "source": [
        "epochs = 2\n",
        "batch_size = 32\n",
        "img_size = [150,150]\n",
        "train_generator = train_datagen.flow_from_dataframe(dataframe = train,\n",
        "                                                    directory=\"/content/drive/My Drive/Dance_classifier/dataset/train\", \n",
        "                                                    x_col=\"Image\",\n",
        "                                                    y_col=\"target\",\n",
        "                                                    class_mode=\"categorical\",\n",
        "                                                    shuffle = True,\n",
        "                                                    target_size=img_size,\n",
        "                                                    batch_size=batch_size)"
      ],
      "execution_count": null,
      "outputs": []
    },
    {
      "cell_type": "code",
      "metadata": {
        "id": "Bjvcw6KH5mUR"
      },
      "source": [
        "# This function will plot images in the form of a grid with 1 row and 5 columns where images are placed in each column.\n",
        "def plotImages(images_arr):\n",
        "    fig, axes = plt.subplots(1, 5, figsize=(20,20))\n",
        "    axes = axes.flatten()\n",
        "    for img, ax in zip( images_arr, axes):\n",
        "        ax.imshow(img)\n",
        "        ax.axis('off')\n",
        "    plt.tight_layout()\n",
        "    plt.show()"
      ],
      "execution_count": null,
      "outputs": []
    },
    {
      "cell_type": "code",
      "metadata": {
        "id": "EXfphuPl5-_7"
      },
      "source": [
        "augmented_images = [train_generator[0][0][0] for i in range(5)]"
      ],
      "execution_count": null,
      "outputs": []
    },
    {
      "cell_type": "code",
      "metadata": {
        "id": "9ERJrbrF5rgt"
      },
      "source": [
        "plotImages(augmented_images)"
      ],
      "execution_count": null,
      "outputs": []
    },
    {
      "cell_type": "markdown",
      "metadata": {
        "id": "6UBcrndYWlN8"
      },
      "source": [
        "##Model Architecture"
      ]
    },
    {
      "cell_type": "code",
      "metadata": {
        "id": "l556bqdN3AHA"
      },
      "source": [
        "from tensorflow.keras.models import Sequential\n",
        "from tensorflow.keras.layers import Conv2D, MaxPool2D, BatchNormalization\n",
        "from tensorflow.keras.layers import Flatten, Dense, Dropout, Activation\n",
        "from tensorflow.keras.callbacks import EarlyStopping\n",
        "model = Sequential()"
      ],
      "execution_count": null,
      "outputs": []
    },
    {
      "cell_type": "code",
      "metadata": {
        "id": "2hZC_Lyo3ISf"
      },
      "source": [
        "#1st layer\n",
        "model.add(Conv2D(32, (3,3), activation='relu', input_shape= img_size + [3]))\n",
        "model.add(Conv2D(32,(3,3), padding='same'))\n",
        "model.add(Activation('relu'))\n",
        "model.add(MaxPool2D(pool_size=(2,2)))\n",
        "model.add(Dropout(0.25))\n",
        "#2nd layer\n",
        "model.add(Conv2D(64,(3,3), padding='same'))\n",
        "model.add(Activation('relu'))\n",
        "model.add(Conv2D(64,(3,3), padding='same'))\n",
        "model.add(Activation('relu'))\n",
        "model.add(MaxPool2D(pool_size=(2,2)))\n",
        "model.add(Dropout(0.3))\n",
        "model.add(tf.keras.layers.BatchNormalization())\n",
        "#Flatten\n",
        "model.add(Flatten())\n",
        "#Dense or FC layer\n",
        "model.add(Dense(128))\n",
        "#model.add(tf.keras.layers.BatchNormalization())\n",
        "model.add(Activation('relu'))\n",
        "model.add(Dropout(0.3))\n",
        "#Final Output Layer/ Softmax Layer\n",
        "model.add(Dense(8))\n",
        "#model.add(tf.keras.layers.BatchNormalization())\n",
        "model.add(Activation('softmax'))\n",
        "\n",
        "opt = tf.keras.optimizers.Adam(lr=0.001, beta_1=0.9, beta_2=0.999, decay=1e-8)\n",
        "\n",
        "model.compile(optimizer = opt, loss = 'categorical_crossentropy', metrics = ['accuracy'])\n",
        "#You can add more layers and make the architecture much more dense \n",
        "#You can also add Batch Normalization and further Normalize your layers\n",
        "model.summary()"
      ],
      "execution_count": null,
      "outputs": []
    },
    {
      "cell_type": "markdown",
      "metadata": {
        "id": "Qv77xYQ1WuPh"
      },
      "source": [
        "##Tensorboard callback and Training"
      ]
    },
    {
      "cell_type": "code",
      "metadata": {
        "id": "PGyORXXpA7aN"
      },
      "source": [
        "import datetime\n",
        "log_dir = \"/content/drive/My Drive/Dance_classifier/dataset/logs/\"+datetime.datetime.now().strftime(\"%Y%m%d\")\n",
        "print(log_dir)"
      ],
      "execution_count": null,
      "outputs": []
    },
    {
      "cell_type": "code",
      "metadata": {
        "id": "UV29FQx5Eyen"
      },
      "source": [
        "%cd /content/drive/My Drive/Dance_classifier/dataset"
      ],
      "execution_count": null,
      "outputs": []
    },
    {
      "cell_type": "code",
      "metadata": {
        "id": "39o9Lnsh_432"
      },
      "source": [
        "%load_ext tensorboard"
      ],
      "execution_count": null,
      "outputs": []
    },
    {
      "cell_type": "code",
      "metadata": {
        "id": "MXeDbYiF8ynX"
      },
      "source": [
        "#Make sure that logs are stored in 'log_dir'\n",
        "%tensorboard --logdir logs/"
      ],
      "execution_count": null,
      "outputs": []
    },
    {
      "cell_type": "code",
      "metadata": {
        "id": "d34pVRIc5zCu"
      },
      "source": [
        "tensorboard_callback = tf.keras.callbacks.TensorBoard(log_dir=log_dir, histogram_freq=1)\n",
        "main = model.fit(train_generator, epochs = epochs, steps_per_epoch= (len(train)/batch_size), initial_epoch = 0, shuffle=True, callbacks=[tensorboard_callback])"
      ],
      "execution_count": null,
      "outputs": []
    },
    {
      "cell_type": "markdown",
      "metadata": {
        "id": "17EQSnyhRVyC"
      },
      "source": [
        "####Visualizing Plots using matplot.lib.pyplot"
      ]
    },
    {
      "cell_type": "code",
      "metadata": {
        "id": "qM85i96j0SKf"
      },
      "source": [
        "# Loss\n",
        "plt.plot(main.history['loss'], label='train loss')\n",
        "plt.legend()\n",
        "plt.show()\n",
        "plt.savefig('Loss_Curve')\n",
        "\n",
        "# Accuracy\n",
        "plt.plot(main.history['categorical_accuracy'], label='train acc')\n",
        "plt.legend()\n",
        "plt.show()\n",
        "plt.savefig('Accuracy_Curve')"
      ],
      "execution_count": null,
      "outputs": []
    },
    {
      "cell_type": "markdown",
      "metadata": {
        "id": "8Sbi_Ur2XCFi"
      },
      "source": [
        "##Saving the Model"
      ]
    },
    {
      "cell_type": "code",
      "metadata": {
        "id": "_S80DkdO8Pfd"
      },
      "source": [
        "save_dir = os.path.join(os.getcwd(), 'saved_models')\n",
        "model_name = 'Dance_classifier.h5'\n",
        "if not os.path.isdir(save_dir):\n",
        "    os.makedirs(save_dir)\n",
        "model_path = os.path.join(save_dir, model_name)\n",
        "model.save(model_path)\n",
        "print('Saved trained model at %s ' % model_path)"
      ],
      "execution_count": null,
      "outputs": []
    },
    {
      "cell_type": "markdown",
      "metadata": {
        "id": "kHlqvbm5XHvz"
      },
      "source": [
        "##Test Set\n",
        "Test.csv file"
      ]
    },
    {
      "cell_type": "code",
      "metadata": {
        "id": "yMTKrUT6GxiR"
      },
      "source": [
        "test = pd.read_csv('/content/drive/My Drive/Dance_classifier/dataset/test.csv')"
      ],
      "execution_count": null,
      "outputs": []
    },
    {
      "cell_type": "code",
      "metadata": {
        "id": "Re5vyKlQIYT9"
      },
      "source": [
        "test.head()"
      ],
      "execution_count": null,
      "outputs": []
    },
    {
      "cell_type": "code",
      "metadata": {
        "id": "qgmoilyPIbZj"
      },
      "source": [
        "classes = train_generator.class_indices\n",
        "print(classes)"
      ],
      "execution_count": null,
      "outputs": []
    },
    {
      "cell_type": "code",
      "metadata": {
        "id": "gb1bWu1fJXX_"
      },
      "source": [
        "inverted_classes = dict(map(reversed, classes.items()))\n",
        "print(inverted_classes)"
      ],
      "execution_count": null,
      "outputs": []
    },
    {
      "cell_type": "markdown",
      "metadata": {
        "id": "h19RRa-2Wit1"
      },
      "source": [
        "## Loading The Saved Model"
      ]
    },
    {
      "cell_type": "code",
      "metadata": {
        "id": "My9sT0Coe8W5"
      },
      "source": [
        " # Recreate the exact same model, including its weights and the optimizer\n",
        "model = tf.keras.models.load_model('/content/drive/My Drive/Dance_classifier/dataset/saved_models/Dance_classifier.h5')\n",
        "# Show the model architecture\n",
        "model.summary()"
      ],
      "execution_count": null,
      "outputs": []
    },
    {
      "cell_type": "code",
      "metadata": {
        "id": "vmkeYAfMN2QC"
      },
      "source": [
        "%cd /content/drive/My Drive/Dance_classifier/dataset/test"
      ],
      "execution_count": null,
      "outputs": []
    },
    {
      "cell_type": "markdown",
      "metadata": {
        "id": "aDnj7l2VW8G-"
      },
      "source": [
        "##Predictions on the Test Set"
      ]
    },
    {
      "cell_type": "code",
      "metadata": {
        "id": "7L4MCWTIJtxw"
      },
      "source": [
        "from keras.preprocessing import image\n",
        "y_pred = []\n",
        "for i in range(len(test)):\n",
        "  img = image.load_img(path = test.Image[i], target_size = img_size + [3])\n",
        "  img = image.img_to_array(img)\n",
        "  test_img = img.reshape([1] + img_size + [3])\n",
        "  #img_class = model.predict_classes(test_img)\n",
        "  img_class = np.argmax(model.predict(test_img), axis = -1)\n",
        "  prediction = img_class[0]\n",
        "  y_pred.append(prediction)"
      ],
      "execution_count": null,
      "outputs": []
    },
    {
      "cell_type": "code",
      "metadata": {
        "id": "F4xIPEF8Lj3o"
      },
      "source": [
        "print(y_pred)"
      ],
      "execution_count": null,
      "outputs": []
    },
    {
      "cell_type": "code",
      "metadata": {
        "id": "AxHWk2g0OOuH"
      },
      "source": [
        "prediction_classes = [ inverted_classes.get(item,item) for item in y_pred ]"
      ],
      "execution_count": null,
      "outputs": []
    },
    {
      "cell_type": "code",
      "metadata": {
        "id": "j3u0C7JqOtcV"
      },
      "source": [
        "print(prediction_classes)"
      ],
      "execution_count": null,
      "outputs": []
    },
    {
      "cell_type": "code",
      "metadata": {
        "id": "HeqH3B44OwzA"
      },
      "source": [
        "predictions = {}\n",
        "predictions['Image'] = test.Image\n",
        "predictions['target'] = prediction_classes"
      ],
      "execution_count": null,
      "outputs": []
    },
    {
      "cell_type": "markdown",
      "metadata": {
        "id": "kDbo72PCqj1V"
      },
      "source": [
        "##Submission"
      ]
    },
    {
      "cell_type": "markdown",
      "metadata": {
        "id": "spx9QyV-Xh68"
      },
      "source": [
        "###Converting DataFrame to .CSV file"
      ]
    },
    {
      "cell_type": "code",
      "metadata": {
        "id": "kUimmoIWQuCr"
      },
      "source": [
        "df = pd.DataFrame(predictions)\n",
        "df.to_csv('/content/drive/My Drive/Dance_classifier/dataset/predictionstrial1.csv', index=False) "
      ],
      "execution_count": null,
      "outputs": []
    },
    {
      "cell_type": "markdown",
      "metadata": {
        "id": "LytwPJ_jXbW6"
      },
      "source": [
        "###Converting DataFrame to Excel file"
      ]
    },
    {
      "cell_type": "code",
      "metadata": {
        "id": "civJGFMvQrgj"
      },
      "source": [
        "#Writing to excel\n",
        "pd.DataFrame(predictions).to_excel(\"/content/drive/My Drive/Dance_classifier/dataset/predictions.xlsx\", index = False)"
      ],
      "execution_count": null,
      "outputs": []
    },
    {
      "cell_type": "markdown",
      "metadata": {
        "id": "5wlUhbyp0KB5"
      },
      "source": [
        "# Model 2 (VGGNet Tranfer Learning approach)"
      ]
    },
    {
      "cell_type": "markdown",
      "metadata": {
        "id": "qL2MsO5cdu-x"
      },
      "source": [
        "##Packages"
      ]
    },
    {
      "cell_type": "code",
      "metadata": {
        "id": "eU1b20Cnz8x_"
      },
      "source": [
        "from keras.layers import Input, Lambda, Dense, Flatten, Dropout\n",
        "from keras.models import Model\n",
        "from keras.applications.vgg16 import VGG16\n",
        "from keras.applications.vgg16 import preprocess_input\n",
        "from keras.preprocessing import image\n",
        "from keras.preprocessing.image import ImageDataGenerator\n",
        "from tensorflow.keras.callbacks import ReduceLROnPlateau\n",
        "from keras.models import Sequential\n",
        "from sklearn.preprocessing import LabelEncoder\n",
        "from tensorflow.keras.utils import to_categorical\n",
        "from sklearn.model_selection import train_test_split\n",
        "import numpy as np\n",
        "import pandas as pd\n",
        "import matplotlib.pyplot as plt\n",
        "import os\n",
        "import cv2"
      ],
      "execution_count": null,
      "outputs": []
    },
    {
      "cell_type": "markdown",
      "metadata": {
        "id": "l_6QlaajToSi"
      },
      "source": [
        "Acessing Train.csv file"
      ]
    },
    {
      "cell_type": "code",
      "metadata": {
        "id": "tRVPPZUk0WjT"
      },
      "source": [
        "train = pd.read_csv('/content/drive/My Drive/Dance_classifier/dataset/train.csv')"
      ],
      "execution_count": null,
      "outputs": []
    },
    {
      "cell_type": "code",
      "metadata": {
        "id": "JqAxRevl0dCc"
      },
      "source": [
        "train.head()"
      ],
      "execution_count": null,
      "outputs": []
    },
    {
      "cell_type": "markdown",
      "metadata": {
        "id": "RFqbq1QneRSr"
      },
      "source": [
        "Path to Training and Testing Images"
      ]
    },
    {
      "cell_type": "code",
      "metadata": {
        "id": "pqsu-gZi0gBL"
      },
      "source": [
        "train_path = '/content/drive/My Drive/Dance_classifier/dataset/train'\n",
        "test_path = '/content/drive/My Drive/Dance_classifier/dataset/test'"
      ],
      "execution_count": null,
      "outputs": []
    },
    {
      "cell_type": "code",
      "metadata": {
        "id": "jK6sELUZ0duN"
      },
      "source": [
        "# Resize all the images to this\n",
        "IMAGE_SIZE = [224, 224]"
      ],
      "execution_count": null,
      "outputs": []
    },
    {
      "cell_type": "markdown",
      "metadata": {
        "id": "4l7AHhudrrJK"
      },
      "source": [
        "##Extracting Images and Labels"
      ]
    },
    {
      "cell_type": "code",
      "metadata": {
        "id": "0YgNaukv0pZY"
      },
      "source": [
        "images = []\n",
        "labels = list(train['target'])\n",
        "for filename in list(train['Image']):\n",
        "    image = cv2.imread(os.path.join(train_path, filename))\n",
        "    image = cv2.resize(image, tuple(IMAGE_SIZE))\n",
        "    image = preprocess_input(image)\n",
        "    images.append(image)"
      ],
      "execution_count": null,
      "outputs": []
    },
    {
      "cell_type": "code",
      "metadata": {
        "id": "rN01AclK0rm7"
      },
      "source": [
        "images = np.array(images)\n",
        "labels = np.array(labels)"
      ],
      "execution_count": null,
      "outputs": []
    },
    {
      "cell_type": "code",
      "metadata": {
        "id": "MaShnN9g0teO"
      },
      "source": [
        "labels"
      ],
      "execution_count": null,
      "outputs": []
    },
    {
      "cell_type": "markdown",
      "metadata": {
        "id": "L6XmXJh4rzD-"
      },
      "source": [
        "Encoding Labels (ONE-HOT Representation)"
      ]
    },
    {
      "cell_type": "code",
      "metadata": {
        "id": "-lOxjmUD0vm6"
      },
      "source": [
        "lb = LabelEncoder()\n",
        "labels = lb.fit_transform(labels)\n",
        "print(labels[:10])\n",
        "labels = to_categorical(labels)\n",
        "print(labels[:10])"
      ],
      "execution_count": null,
      "outputs": []
    },
    {
      "cell_type": "markdown",
      "metadata": {
        "id": "dxzJ5yResC35"
      },
      "source": [
        "##Spliting of Train Images into Train and Validation folders"
      ]
    },
    {
      "cell_type": "code",
      "metadata": {
        "id": "QDrmueFr0yOx"
      },
      "source": [
        "(trainX, testX, trainY, testY) = train_test_split(images, labels,\n",
        "                                test_size=0.20, stratify=labels, random_state=42)"
      ],
      "execution_count": null,
      "outputs": []
    },
    {
      "cell_type": "code",
      "metadata": {
        "id": "GfiWCBwh00rd"
      },
      "source": [
        "print(len(trainX))\n",
        "print(len(trainY))\n",
        "print(len(testX))\n",
        "print(len(testY))"
      ],
      "execution_count": null,
      "outputs": []
    },
    {
      "cell_type": "code",
      "metadata": {
        "id": "P5iBYhhJ026r"
      },
      "source": [
        "testX.shape"
      ],
      "execution_count": null,
      "outputs": []
    },
    {
      "cell_type": "markdown",
      "metadata": {
        "id": "-Dv3RkCxsgxR"
      },
      "source": [
        "##Improving Dataset"
      ]
    },
    {
      "cell_type": "code",
      "metadata": {
        "id": "RtEvgbRa05XB"
      },
      "source": [
        "traindata_gen = ImageDataGenerator(\n",
        "    rescale = 1/255.0,\n",
        "    rotation_range = 20,\n",
        "    zoom_range = 0.2,\n",
        "    width_shift_range = 0.2,\n",
        "    height_shift_range = 0.2,\n",
        "    shear_range = 0.2,\n",
        "    fill_mode = 'nearest',\n",
        "    horizontal_flip = True\n",
        ")\n",
        "\n",
        "testdata_gen = ImageDataGenerator(\n",
        "    rescale = 1/255.0,\n",
        "    horizontal_flip = True\n",
        ") "
      ],
      "execution_count": null,
      "outputs": []
    },
    {
      "cell_type": "code",
      "metadata": {
        "id": "kMzIgsHyWuPW"
      },
      "source": [
        "def plotimages(img_array):\n",
        "  fig, axes = plt.subplots(1, 5, sharex='all', sharey= 'all', figsize=(20,20)) \n",
        "  axes = axes.flatten() \n",
        "  for img, ax in zip(img_array, axes):\n",
        "    ax.imshow(img)\n",
        "    ax.set_title('Different Views of the Images') \n",
        "    ax.axis('off')\n",
        "  plt.show()"
      ],
      "execution_count": null,
      "outputs": []
    },
    {
      "cell_type": "markdown",
      "metadata": {
        "id": "Yp5bdhz1sobR"
      },
      "source": [
        "##Model 2 Architecture"
      ]
    },
    {
      "cell_type": "code",
      "metadata": {
        "id": "cvTcA7Yo08YS"
      },
      "source": [
        "#add preprocessing layer to the front of VGG\n",
        "vgg = VGG16(input_shape=IMAGE_SIZE + [3], weights='imagenet', include_top=False)"
      ],
      "execution_count": null,
      "outputs": []
    },
    {
      "cell_type": "code",
      "metadata": {
        "id": "xQsk-vTG0-v3"
      },
      "source": [
        "# Don't train existing weights\n",
        "for layer in vgg.layers:\n",
        "    layer.trainable = False"
      ],
      "execution_count": null,
      "outputs": []
    },
    {
      "cell_type": "code",
      "metadata": {
        "id": "F8E6qFAe1BHV"
      },
      "source": [
        "# Custom layers - You can add more if you want!\n",
        "x = Flatten()(vgg.output)\n",
        "x = Dense(1024, activation = 'relu')(x)\n",
        "x = Dropout(0.20)(x)\n",
        "prediction = Dense(8, activation='softmax')(x)"
      ],
      "execution_count": null,
      "outputs": []
    },
    {
      "cell_type": "code",
      "metadata": {
        "id": "JO45Mo0G1DPh"
      },
      "source": [
        "# Create a model object\n",
        "model = Model(inputs=vgg.input, outputs=prediction)"
      ],
      "execution_count": null,
      "outputs": []
    },
    {
      "cell_type": "code",
      "metadata": {
        "id": "y4sOaMlz1Fqj"
      },
      "source": [
        "# To view the structure of the model\n",
        "model.summary()"
      ],
      "execution_count": null,
      "outputs": []
    },
    {
      "cell_type": "code",
      "metadata": {
        "id": "ELyIelaD1HVQ"
      },
      "source": [
        "model.compile(\n",
        "    loss='categorical_crossentropy',\n",
        "    optimizer = 'Adam',\n",
        "    metrics = ['accuracy']\n",
        ")"
      ],
      "execution_count": null,
      "outputs": []
    },
    {
      "cell_type": "code",
      "metadata": {
        "id": "GpNS-03y1Kad"
      },
      "source": [
        "train_generator = traindata_gen.flow(trainX, trainY, shuffle = True, batch_size=32)\n",
        "test_generator = testdata_gen.flow(testX, testY, batch_size = 32)"
      ],
      "execution_count": null,
      "outputs": []
    },
    {
      "cell_type": "code",
      "metadata": {
        "id": "yaD0lAmFnacc"
      },
      "source": [
        "print(len(train_generator))\n",
        "print(len(trainX)/32)"
      ],
      "execution_count": null,
      "outputs": []
    },
    {
      "cell_type": "code",
      "metadata": {
        "id": "03LZGYRCaFQN"
      },
      "source": [
        "augimages = [train_generator[0][0][0] for i in range(5)]\n",
        "plotimages(augimages)"
      ],
      "execution_count": null,
      "outputs": []
    },
    {
      "cell_type": "markdown",
      "metadata": {
        "id": "X1f0oDe4tFv8"
      },
      "source": [
        "##Callbacks and Training"
      ]
    },
    {
      "cell_type": "code",
      "metadata": {
        "id": "3lh17iTU1MdL"
      },
      "source": [
        "# Set a Learning Rate Annealer\n",
        "learning_rate_reduction = ReduceLROnPlateau(monitor='val_accuracy',\n",
        "                                           patience=3,\n",
        "                                           verbose=1,\n",
        "                                           factor=0.5,\n",
        "                                           min_lr=0.0001)\n"
      ],
      "execution_count": null,
      "outputs": []
    },
    {
      "cell_type": "code",
      "metadata": {
        "id": "zW0MtFu5eA3f"
      },
      "source": [
        "tensorboard_callback = tf.keras.callbacks.TensorBoard(log_dir=log_dir, histogram_freq=1, write_images=True)"
      ],
      "execution_count": null,
      "outputs": []
    },
    {
      "cell_type": "code",
      "metadata": {
        "id": "7J7Q_SbHd6j9"
      },
      "source": [
        "import datetime\n",
        "log_dir = \"/content/drive/My Drive/Dance_classifier/dataset/logsVgg/\"+datetime.datetime.now().strftime(\"%Y%m%d\")"
      ],
      "execution_count": null,
      "outputs": []
    },
    {
      "cell_type": "code",
      "metadata": {
        "id": "1TnURa6ve1EO"
      },
      "source": [
        "%cd /content/drive/My Drive/Dance_classifier/dataset"
      ],
      "execution_count": null,
      "outputs": []
    },
    {
      "cell_type": "code",
      "metadata": {
        "id": "yZp1OP-wfAbX"
      },
      "source": [
        "%load_ext tensorboard"
      ],
      "execution_count": null,
      "outputs": []
    },
    {
      "cell_type": "code",
      "metadata": {
        "id": "mKOvMHjBfFBh"
      },
      "source": [
        "%tensorboard --logdir logsVgg/"
      ],
      "execution_count": null,
      "outputs": []
    },
    {
      "cell_type": "code",
      "metadata": {
        "id": "R2rYHVHt1QH9"
      },
      "source": [
        "main = model.fit(train_generator,\n",
        "        validation_data = test_generator,\n",
        "        epochs = 2,\n",
        "        steps_per_epoch = len(train_generator),\n",
        "        validation_steps = len(test_generator),\n",
        "        callbacks = [learning_rate_reduction, tensorboard_callback]\n",
        ")"
      ],
      "execution_count": null,
      "outputs": []
    },
    {
      "cell_type": "markdown",
      "metadata": {
        "id": "qeAdCawvtUGo"
      },
      "source": [
        "###Visualizing plots using Matplotlib.pyplot"
      ]
    },
    {
      "cell_type": "code",
      "metadata": {
        "id": "2a970fiT1SXB"
      },
      "source": [
        "# loss\n",
        "plt.plot(main.history['loss'], label='train loss')\n",
        "plt.plot(main.history['val_loss'], label='val loss')\n",
        "plt.legend()\n",
        "plt.show()\n",
        "plt.savefig('LossVal_loss1')\n",
        "\n",
        "# accuracies\n",
        "plt.plot(main.history['accuracy'], label='train acc')\n",
        "plt.plot(main.history['val_accuracy'], label='val acc')\n",
        "plt.legend()\n",
        "plt.show()\n",
        "plt.savefig('AvvVal_acc1')"
      ],
      "execution_count": null,
      "outputs": []
    },
    {
      "cell_type": "markdown",
      "metadata": {
        "id": "v2CVU71cg1fZ"
      },
      "source": [
        "##Save Model"
      ]
    },
    {
      "cell_type": "code",
      "metadata": {
        "id": "w9Tv6JucgoNs"
      },
      "source": [
        "save_dir = os.path.join(os.getcwd(), 'saved_models')\n",
        "model_name = 'Dance_classifier_vgg.h5'\n",
        "if not os.path.isdir(save_dir):\n",
        "    os.makedirs(save_dir)\n",
        "model_path = os.path.join(save_dir, model_name)\n",
        "model.save(model_path)\n",
        "print('Saved trained model at %s ' % model_path)"
      ],
      "execution_count": null,
      "outputs": []
    },
    {
      "cell_type": "markdown",
      "metadata": {
        "id": "Am-yjHOxg83c"
      },
      "source": [
        "##Load Model"
      ]
    },
    {
      "cell_type": "code",
      "metadata": {
        "id": "P1573GVdhCJn"
      },
      "source": [
        "# Recreate the exact same model, including its weights and the optimizer\n",
        "model = tf.keras.models.load_model('/content/drive/My Drive/Dance_classifier/dataset/saved_models/Dance_classifier_vgg.h5')\n",
        "# Show the model architecture\n",
        "model.summary()"
      ],
      "execution_count": null,
      "outputs": []
    },
    {
      "cell_type": "markdown",
      "metadata": {
        "id": "Fo6L5qmdhlhm"
      },
      "source": [
        "##Evaluation on Test Set (Model is evaluated on this set)"
      ]
    },
    {
      "cell_type": "code",
      "metadata": {
        "id": "vK2u-yvqhn3A"
      },
      "source": [
        "test_df = pd.read_csv('/content/drive/My Drive/Dance_classifier/dataset/test.csv')"
      ],
      "execution_count": null,
      "outputs": []
    },
    {
      "cell_type": "code",
      "metadata": {
        "id": "tNp5HKQHhsvU"
      },
      "source": [
        "test_df.head()"
      ],
      "execution_count": null,
      "outputs": []
    },
    {
      "cell_type": "code",
      "metadata": {
        "id": "T4BlHgGLhvT1"
      },
      "source": [
        "test_images = []\n",
        "for filename in list(test_df['Image']):\n",
        "    image = cv2.imread(os.path.join(test_path, filename))\n",
        "    image = cv2.resize(image, tuple(IMAGE_SIZE))\n",
        "    image = preprocess_input(image)\n",
        "    test_images.append(image)"
      ],
      "execution_count": null,
      "outputs": []
    },
    {
      "cell_type": "code",
      "metadata": {
        "id": "zXN6TTfjh1H0"
      },
      "source": [
        "test_images = np.array(test_images)"
      ],
      "execution_count": null,
      "outputs": []
    },
    {
      "cell_type": "code",
      "metadata": {
        "id": "qo73P7iCh2UA"
      },
      "source": [
        "test_images.shape"
      ],
      "execution_count": null,
      "outputs": []
    },
    {
      "cell_type": "code",
      "metadata": {
        "id": "Ep9JPhpuh4hg"
      },
      "source": [
        "test_labels = []"
      ],
      "execution_count": null,
      "outputs": []
    },
    {
      "cell_type": "code",
      "metadata": {
        "id": "OxjSa1Ldh67N"
      },
      "source": [
        "# create test labels \n",
        "def create_test_labels():\n",
        "    for image in test_images:\n",
        "        image = cv2.resize(image, tuple(IMAGE_SIZE))\n",
        "        image = image.reshape([-1] + IMAGE_SIZE + [3])\n",
        "        image = preprocess_input(image)\n",
        "        predict = model.predict(image)\n",
        "        test_labels.append([image, predict])\n",
        "\n",
        "create_test_labels()"
      ],
      "execution_count": null,
      "outputs": []
    },
    {
      "cell_type": "code",
      "metadata": {
        "id": "0BlTaawciSVA"
      },
      "source": [
        "Image = []\n",
        "target = []\n",
        "for i, j in test_labels:\n",
        "    target.append(np.argmax(j))\n",
        "    Image.append(i)\n",
        "df = pd.DataFrame(columns=['target'])\n",
        "df['target'] = target\n",
        "df['target'] = lb.inverse_transform(df['target'])"
      ],
      "execution_count": null,
      "outputs": []
    },
    {
      "cell_type": "code",
      "metadata": {
        "id": "cgm2FOLQica7"
      },
      "source": [
        "predictions = pd.concat([test_df['Image'], df['target']], axis=1)\n",
        "predictions.to_csv('/content/drive/My Drive/Dance_classifier/dataset/vggpredictions_6.csv', index=False)"
      ],
      "execution_count": null,
      "outputs": []
    },
    {
      "cell_type": "code",
      "metadata": {
        "id": "U0t6H5xIisw6"
      },
      "source": [
        "predictions"
      ],
      "execution_count": null,
      "outputs": []
    },
    {
      "cell_type": "markdown",
      "metadata": {
        "id": "1aWzNYRAuE72"
      },
      "source": [
        "##Submission"
      ]
    },
    {
      "cell_type": "markdown",
      "metadata": {
        "id": "Cd0eZukzuXRR"
      },
      "source": [
        "##Converting DataFrame to .CSV file"
      ]
    },
    {
      "cell_type": "code",
      "metadata": {
        "id": "TPdERJfauJxl"
      },
      "source": [
        "df = pd.DataFrame(predictions)\n",
        "df.to_csv('/content/drive/My Drive/Dance_classifier/dataset/predictionstrial1.csv', index=False) "
      ],
      "execution_count": null,
      "outputs": []
    },
    {
      "cell_type": "markdown",
      "metadata": {
        "id": "1YSepjNkuc8D"
      },
      "source": [
        "##Converting DataFrame to Excel Format"
      ]
    },
    {
      "cell_type": "code",
      "metadata": {
        "id": "EzB4g3l1uJeO"
      },
      "source": [
        "#Writing to excel\n",
        "pd.DataFrame(predictions).to_excel(\"/content/drive/My Drive/Dance_classifier/dataset/predictions.xlsx\", index = False)"
      ],
      "execution_count": null,
      "outputs": []
    }
  ]
}